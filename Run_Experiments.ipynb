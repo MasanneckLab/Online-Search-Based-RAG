{
 "cells": [
  {
   "cell_type": "markdown",
   "metadata": {},
   "source": [
    "# Run Perplexity Queries\n"
   ]
  },
  {
   "cell_type": "markdown",
   "metadata": {},
   "source": [
    "## Imports"
   ]
  },
  {
   "cell_type": "code",
   "execution_count": 1,
   "metadata": {},
   "outputs": [
    {
     "name": "stderr",
     "output_type": "stream",
     "text": [
      "/Users/larsmasanneck/Library/CloudStorage/OneDrive-Personal/Dokumente/Research Basics and Coding Projects/Data Projects/Marc Pawlitzki/Perplexity/Perplexity/venv/lib/python3.9/site-packages/urllib3/__init__.py:35: NotOpenSSLWarning: urllib3 v2 only supports OpenSSL 1.1.1+, currently the 'ssl' module is compiled with 'LibreSSL 2.8.3'. See: https://github.com/urllib3/urllib3/issues/3020\n",
      "  warnings.warn(\n"
     ]
    }
   ],
   "source": [
    "from perplexity_experiment import run_experiment_on_excel"
   ]
  },
  {
   "cell_type": "markdown",
   "metadata": {},
   "source": [
    "## Experiments"
   ]
  },
  {
   "cell_type": "markdown",
   "metadata": {},
   "source": [
    "Experimental setups include running queries with and without whitelisting and with and without reasoining. "
   ]
  },
  {
   "cell_type": "markdown",
   "metadata": {},
   "source": [
    "### No Reasoning, No Whitelisting\n"
   ]
  },
  {
   "cell_type": "code",
   "execution_count": null,
   "metadata": {},
   "outputs": [
    {
     "name": "stdout",
     "output_type": "stream",
     "text": [
      "Running experiment...\n",
      "Input file: questions.xlsx\n",
      "Output file: results/no_reasoning_no_whitelisting.xlsx\n",
      "Iterations: 4\n",
      "Model: sonar\n",
      "Whitelist: None\n",
      "Temperature: 0.9\n",
      "Max tokens: 8000\n",
      "--------------------------------\n",
      "Total questions to process: 130\n",
      "Total API calls to make: 520\n",
      "--------------------------------\n"
     ]
    },
    {
     "name": "stderr",
     "output_type": "stream",
     "text": [
      "Processing: A 22-year-old male patient wit...: 100%|██████████| 130/130 [56:14<00:00, 25.96s/question]"
     ]
    },
    {
     "name": "stdout",
     "output_type": "stream",
     "text": [
      "Experiment completed. Results saved to results/no_reasoning_no_whitelisting.xlsx\n"
     ]
    },
    {
     "name": "stderr",
     "output_type": "stream",
     "text": [
      "\n"
     ]
    }
   ],
   "source": [
    "results = run_experiment_on_excel(\n",
    "    input_file=\"questions.xlsx\",\n",
    "    output_file=\"results/no_reasoning_no_whitelisting.xlsx\",\n",
    "    iterations=4,\n",
    "    model=\"sonar\",\n",
    "    max_tokens=8000,\n",
    ")\n"
   ]
  },
  {
   "cell_type": "markdown",
   "metadata": {},
   "source": [
    "### No Reasoning, Yes Whitelisting"
   ]
  },
  {
   "cell_type": "code",
   "execution_count": 5,
   "metadata": {},
   "outputs": [
    {
     "name": "stdout",
     "output_type": "stream",
     "text": [
      "Running experiment...\n",
      "Input file: questions.xlsx\n",
      "Output file: results/no_reasoning_yes_whitelisting.xlsx\n",
      "Iterations: 4\n",
      "Model: sonar\n",
      "Whitelist: ['aan.com', 'neurology.org']\n",
      "Temperature: 0.9\n",
      "Max tokens: 8000\n",
      "--------------------------------\n",
      "Total questions to process: 130\n",
      "Total API calls to make: 520\n",
      "--------------------------------\n"
     ]
    },
    {
     "name": "stderr",
     "output_type": "stream",
     "text": [
      "Processing: A 22-year-old male patient wit...: 100%|██████████| 130/130 [1:36:12<00:00, 44.41s/question]"
     ]
    },
    {
     "name": "stdout",
     "output_type": "stream",
     "text": [
      "Experiment completed. Results saved to results/no_reasoning_yes_whitelisting.xlsx\n"
     ]
    },
    {
     "name": "stderr",
     "output_type": "stream",
     "text": [
      "\n"
     ]
    }
   ],
   "source": [
    "results = run_experiment_on_excel(\n",
    "    input_file=\"questions.xlsx\",\n",
    "    output_file=\"results/no_reasoning_yes_whitelisting.xlsx\",\n",
    "    iterations=4,\n",
    "    model=\"sonar\",\n",
    "    max_tokens=8000,\n",
    "    whitelist= [\"aan.com\", \"neurology.org\"]\n",
    ")"
   ]
  },
  {
   "cell_type": "markdown",
   "metadata": {},
   "source": [
    "### Run the same with the larger sonar-pro model"
   ]
  },
  {
   "cell_type": "code",
   "execution_count": 2,
   "metadata": {},
   "outputs": [
    {
     "name": "stdout",
     "output_type": "stream",
     "text": [
      "Running experiment...\n",
      "Input file: questions.xlsx\n",
      "Output file: results/no_reasoning_no_whitelisting_sonarpro.xlsx\n",
      "Iterations: 4\n",
      "Model: sonar-pro\n",
      "Whitelist: None\n",
      "Temperature: 0.9\n",
      "Max tokens: 8000\n",
      "--------------------------------\n",
      "Total questions to process: 130\n",
      "Total API calls to make: 520\n",
      "--------------------------------\n"
     ]
    },
    {
     "name": "stderr",
     "output_type": "stream",
     "text": [
      "Processing: A 58-year-old female patient w...:  35%|███▌      | 46/130 [31:08<1:00:25, 43.16s/question]Error calling Perplexity API\n",
      "Traceback (most recent call last):\n",
      "  File \"/Users/larsmasanneck/Library/CloudStorage/OneDrive-Personal/Dokumente/Research Basics and Coding Projects/Data Projects/Marc Pawlitzki/Perplexity/Perplexity/perplexity_experiment.py\", line 102, in call_perplexity_api\n",
      "    response.raise_for_status()\n",
      "  File \"/Users/larsmasanneck/Library/CloudStorage/OneDrive-Personal/Dokumente/Research Basics and Coding Projects/Data Projects/Marc Pawlitzki/Perplexity/Perplexity/venv/lib/python3.9/site-packages/requests/models.py\", line 1024, in raise_for_status\n",
      "    raise HTTPError(http_error_msg, response=self)\n",
      "requests.exceptions.HTTPError: 500 Server Error: Internal Server Error for url: https://api.perplexity.ai/chat/completions\n",
      "Attempt 1 failed for question: 'A 58-year-old female patient with painful diabetic...' Retrying... Error: Failed to call Perplexity API: 500 Server Error: Internal Server Error for url: https://api.perplexity.ai/chat/completions\n"
     ]
    },
    {
     "name": "stdout",
     "output_type": "stream",
     "text": [
      "{'error': {'message': 'The inference server returned an error.', 'type': 'unknown', 'code': 500}}\n"
     ]
    },
    {
     "name": "stderr",
     "output_type": "stream",
     "text": [
      "Processing: A 15-year-old female patient p...:  52%|█████▏    | 67/130 [45:41<42:06, 40.10s/question]  Error calling Perplexity API\n",
      "Traceback (most recent call last):\n",
      "  File \"/Users/larsmasanneck/Library/CloudStorage/OneDrive-Personal/Dokumente/Research Basics and Coding Projects/Data Projects/Marc Pawlitzki/Perplexity/Perplexity/perplexity_experiment.py\", line 102, in call_perplexity_api\n",
      "    response.raise_for_status()\n",
      "  File \"/Users/larsmasanneck/Library/CloudStorage/OneDrive-Personal/Dokumente/Research Basics and Coding Projects/Data Projects/Marc Pawlitzki/Perplexity/Perplexity/venv/lib/python3.9/site-packages/requests/models.py\", line 1024, in raise_for_status\n",
      "    raise HTTPError(http_error_msg, response=self)\n",
      "requests.exceptions.HTTPError: 500 Server Error: Internal Server Error for url: https://api.perplexity.ai/chat/completions\n",
      "Attempt 1 failed for question: 'A 15-year-old female patient presents with chronic...' Retrying... Error: Failed to call Perplexity API: 500 Server Error: Internal Server Error for url: https://api.perplexity.ai/chat/completions\n"
     ]
    },
    {
     "name": "stdout",
     "output_type": "stream",
     "text": [
      "{'error': {'message': 'The inference server returned an error.', 'type': 'unknown', 'code': 500}}\n"
     ]
    },
    {
     "name": "stderr",
     "output_type": "stream",
     "text": [
      "Processing: According to current guideline...:  62%|██████▏   | 81/130 [56:10<34:58, 42.83s/question]Error calling Perplexity API\n",
      "Traceback (most recent call last):\n",
      "  File \"/Users/larsmasanneck/Library/CloudStorage/OneDrive-Personal/Dokumente/Research Basics and Coding Projects/Data Projects/Marc Pawlitzki/Perplexity/Perplexity/perplexity_experiment.py\", line 102, in call_perplexity_api\n",
      "    response.raise_for_status()\n",
      "  File \"/Users/larsmasanneck/Library/CloudStorage/OneDrive-Personal/Dokumente/Research Basics and Coding Projects/Data Projects/Marc Pawlitzki/Perplexity/Perplexity/venv/lib/python3.9/site-packages/requests/models.py\", line 1024, in raise_for_status\n",
      "    raise HTTPError(http_error_msg, response=self)\n",
      "requests.exceptions.HTTPError: 500 Server Error: Internal Server Error for url: https://api.perplexity.ai/chat/completions\n",
      "Attempt 1 failed for question: 'According to current guidelines, are multiple scle...' Retrying... Error: Failed to call Perplexity API: 500 Server Error: Internal Server Error for url: https://api.perplexity.ai/chat/completions\n"
     ]
    },
    {
     "name": "stdout",
     "output_type": "stream",
     "text": [
      "{'error': {'message': 'The inference server returned an error.', 'type': 'unknown', 'code': 500}}\n"
     ]
    },
    {
     "name": "stderr",
     "output_type": "stream",
     "text": [
      "Processing: A 22-year-old male patient wit...: 100%|██████████| 130/130 [1:32:17<00:00, 42.59s/question]"
     ]
    },
    {
     "name": "stdout",
     "output_type": "stream",
     "text": [
      "Experiment completed. Results saved to results/no_reasoning_no_whitelisting_sonarpro.xlsx\n"
     ]
    },
    {
     "name": "stderr",
     "output_type": "stream",
     "text": [
      "\n"
     ]
    }
   ],
   "source": [
    "results = run_experiment_on_excel(\n",
    "    input_file=\"questions.xlsx\",\n",
    "    output_file=\"results/no_reasoning_no_whitelisting_sonarpro.xlsx\",\n",
    "    iterations=4,\n",
    "    model=\"sonar-pro\",\n",
    "    max_tokens=8000,\n",
    ")"
   ]
  },
  {
   "cell_type": "code",
   "execution_count": 2,
   "metadata": {},
   "outputs": [
    {
     "name": "stdout",
     "output_type": "stream",
     "text": [
      "Running experiment...\n",
      "Input file: questions.xlsx\n",
      "Output file: results/no_reasoning_yes_whitelisting_sonarpro.xlsx\n",
      "Iterations: 4\n",
      "Model: sonar-pro\n",
      "Whitelist: ['aan.com', 'neurology.org']\n",
      "Temperature: 0.9\n",
      "Max tokens: 8000\n",
      "--------------------------------\n",
      "Total questions to process: 130\n",
      "Total API calls to make: 520\n",
      "--------------------------------\n"
     ]
    },
    {
     "name": "stderr",
     "output_type": "stream",
     "text": [
      "Processing: A 22-year-old male patient wit...: 100%|██████████| 130/130 [1:26:24<00:00, 39.88s/question]"
     ]
    },
    {
     "name": "stdout",
     "output_type": "stream",
     "text": [
      "Experiment completed. Results saved to results/no_reasoning_yes_whitelisting_sonarpro.xlsx\n"
     ]
    },
    {
     "name": "stderr",
     "output_type": "stream",
     "text": [
      "\n"
     ]
    }
   ],
   "source": [
    "results = run_experiment_on_excel(\n",
    "    input_file=\"questions.xlsx\",\n",
    "    output_file=\"results/no_reasoning_yes_whitelisting_sonarpro.xlsx\",\n",
    "    iterations=4,\n",
    "    model=\"sonar-pro\",\n",
    "    max_tokens=8000,\n",
    "    whitelist= [\"aan.com\", \"neurology.org\"]\n",
    ")"
   ]
  },
  {
   "cell_type": "markdown",
   "metadata": {},
   "source": [
    "### Yes Reasoning, No Whitelisting"
   ]
  },
  {
   "cell_type": "code",
   "execution_count": 3,
   "metadata": {},
   "outputs": [
    {
     "name": "stdout",
     "output_type": "stream",
     "text": [
      "Running experiment...\n",
      "Input file: questions.xlsx\n",
      "Output file: results/yes_reasoning_no_whitelisting.xlsx\n",
      "Iterations: 4\n",
      "Model: sonar-reasoning-pro\n",
      "Whitelist: None\n",
      "Temperature: 0.9\n",
      "Max tokens: 8000\n",
      "--------------------------------\n",
      "Total questions to process: 130\n",
      "Total API calls to make: 520\n",
      "--------------------------------\n"
     ]
    },
    {
     "name": "stderr",
     "output_type": "stream",
     "text": [
      "Processing: A 16-year-old adolescent patie...:  58%|█████▊    | 76/130 [1:26:51<1:01:14, 68.04s/question]Attempt 1 failed for question: 'A 16-year-old adolescent patient with frequent mig...' Retrying... Error: Expecting value: line 1 column 1 (char 0)\n",
      "Processing: According to current guideline...:  80%|████████  | 104/130 [1:59:54<29:57, 69.14s/question] Attempt 1 failed for question: 'According to current guidelines, in patients with ...' Retrying... Error: Expecting value: line 1 column 1 (char 0)\n",
      "Processing: A 22-year-old male patient wit...: 100%|██████████| 130/130 [2:33:52<00:00, 71.02s/question]"
     ]
    },
    {
     "name": "stdout",
     "output_type": "stream",
     "text": [
      "Experiment completed. Results saved to results/yes_reasoning_no_whitelisting.xlsx\n"
     ]
    },
    {
     "name": "stderr",
     "output_type": "stream",
     "text": [
      "\n"
     ]
    }
   ],
   "source": [
    "results = run_experiment_on_excel(\n",
    "    input_file=\"questions.xlsx\",\n",
    "    output_file=\"results/yes_reasoning_no_whitelisting.xlsx\",\n",
    "    iterations=4,\n",
    "    model=\"sonar-reasoning-pro\",\n",
    "    max_tokens=8000,\n",
    ")\n"
   ]
  },
  {
   "cell_type": "markdown",
   "metadata": {},
   "source": [
    "### Yes Reasoning, Yes Whitelisting\n"
   ]
  },
  {
   "cell_type": "code",
   "execution_count": 4,
   "metadata": {},
   "outputs": [
    {
     "name": "stdout",
     "output_type": "stream",
     "text": [
      "Running experiment...\n",
      "Input file: questions.xlsx\n",
      "Output file: results/no_reasoning_yes_whitelisting.xlsx\n",
      "Iterations: 4\n",
      "Model: sonar-reasoning-pro\n",
      "Whitelist: ['aan.com', 'neurology.org']\n",
      "Temperature: 0.9\n",
      "Max tokens: 8000\n",
      "--------------------------------\n",
      "Total questions to process: 130\n",
      "Total API calls to make: 520\n",
      "--------------------------------\n"
     ]
    },
    {
     "name": "stderr",
     "output_type": "stream",
     "text": [
      "Processing: According to current guideline...:  26%|██▌       | 34/130 [37:04<1:36:45, 60.47s/question]Attempt 1 failed for question: 'According to current guidelines, should CT angiogr...' Retrying... Error: Expecting value: line 1 column 1 (char 0)\n",
      "Processing: A 22-year-old male patient wit...: 100%|██████████| 130/130 [2:27:01<00:00, 67.85s/question] "
     ]
    },
    {
     "name": "stdout",
     "output_type": "stream",
     "text": [
      "Experiment completed. Results saved to results/no_reasoning_yes_whitelisting.xlsx\n"
     ]
    },
    {
     "name": "stderr",
     "output_type": "stream",
     "text": [
      "\n"
     ]
    }
   ],
   "source": [
    "results = run_experiment_on_excel(\n",
    "    input_file=\"questions.xlsx\",\n",
    "    output_file=\"results/yes_reasoning_yes_whitelisting.xlsx\",\n",
    "    iterations=4,\n",
    "    model=\"sonar-reasoning-pro\",\n",
    "    max_tokens=8000,\n",
    "    whitelist= [\"aan.com\", \"neurology.org\"]\n",
    ")"
   ]
  }
 ],
 "metadata": {
  "kernelspec": {
   "display_name": "venv",
   "language": "python",
   "name": "python3"
  },
  "language_info": {
   "codemirror_mode": {
    "name": "ipython",
    "version": 3
   },
   "file_extension": ".py",
   "mimetype": "text/x-python",
   "name": "python",
   "nbconvert_exporter": "python",
   "pygments_lexer": "ipython3",
   "version": "3.9.6"
  }
 },
 "nbformat": 4,
 "nbformat_minor": 2
}
