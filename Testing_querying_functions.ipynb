{
 "cells": [
  {
   "cell_type": "markdown",
   "metadata": {},
   "source": [
    "# Perplexity Reasoning and Source Control Experiments\n",
    "\n",
    "\n"
   ]
  },
  {
   "cell_type": "markdown",
   "metadata": {},
   "source": [
    "## Test Codebase"
   ]
  },
  {
   "cell_type": "markdown",
   "metadata": {},
   "source": [
    "### Base Function"
   ]
  },
  {
   "cell_type": "code",
   "execution_count": 1,
   "metadata": {},
   "outputs": [
    {
     "name": "stderr",
     "output_type": "stream",
     "text": [
      "/Users/larsmasanneck/Library/CloudStorage/OneDrive-Personal/Dokumente/Research Basics and Coding Projects/Data Projects/Marc Pawlitzki/Perplexity/Perplexity/venv/lib/python3.9/site-packages/urllib3/__init__.py:35: NotOpenSSLWarning: urllib3 v2 only supports OpenSSL 1.1.1+, currently the 'ssl' module is compiled with 'LibreSSL 2.8.3'. See: https://github.com/urllib3/urllib3/issues/3020\n",
      "  warnings.warn(\n"
     ]
    }
   ],
   "source": [
    "from perplexity_experiment import run_experiment_on_excel, run_experiment_on_question, call_perplexity_api\n",
    "\n",
    "data = call_perplexity_api(\n",
    "    question=\"What is the recommended dosage of acetaminophen for an adult?\",\n",
    "    model=\"sonar\",\n",
    "    whitelist=[\"aan.com\", \"fda.gov\"],\n",
    "    temperature=0.7,\n",
    ")\n"
   ]
  },
  {
   "cell_type": "code",
   "execution_count": 2,
   "metadata": {},
   "outputs": [
    {
     "data": {
      "text/plain": [
       "{'model': 'sonar',\n",
       " 'whitelist': ['aan.com', 'fda.gov'],\n",
       " 'answer': 'The recommended dosage of acetaminophen for adults is as follows:\\n\\n- **Adults and adolescents weighing 50 kg and over**: The recommended dose is 1,000 mg every 6 hours or 650 mg every 4 hours. The maximum single dose is 1,000 mg, with a minimum dosing interval of 4 hours and a maximum daily dose of 4,000 mg per day[1][3][5].\\n- **Adults and adolescents weighing under 50 kg**: The recommended dose is 15 mg/kg every 6 hours or 12.5 mg/kg every 4 hours. The maximum single dose is 15 mg/kg, with a minimum dosing interval of 4 hours and a maximum daily dose of 75 mg/kg per day[1][3][5].\\n\\nNote that these guidelines are from FDA-approved labels and not specifically from AAN guidelines, as AAN guidelines typically focus on neurological conditions rather than general pain management or acetaminophen dosing.',\n",
       " 'sources': ['https://www.accessdata.fda.gov/drugsatfda_docs/label/2021/204767s007lbl.pdf',\n",
       "  'https://www.accessdata.fda.gov/drugsatfda_docs/label/2024/209471s001lbl.pdf',\n",
       "  'https://www.accessdata.fda.gov/drugsatfda_docs/label/2015/204767s000lbl.pdf',\n",
       "  'https://www.accessdata.fda.gov/drugsatfda_docs/label/2022/206968s000lbl.pdf',\n",
       "  'https://www.accessdata.fda.gov/drugsatfda_docs/label/2021/206610s000lbl.pdf']}"
      ]
     },
     "execution_count": 2,
     "metadata": {},
     "output_type": "execute_result"
    }
   ],
   "source": [
    "data"
   ]
  },
  {
   "cell_type": "markdown",
   "metadata": {},
   "source": [
    "### Iteration function"
   ]
  },
  {
   "cell_type": "code",
   "execution_count": 3,
   "metadata": {},
   "outputs": [],
   "source": [
    "results = run_experiment_on_question(\n",
    "    question=\"What is the recommended dosage of acetaminophen for an adult?\",\n",
    "    model=\"sonar\",\n",
    "    whitelist=[\"aan.com\", \"fda.gov\"],\n",
    "    temperature=0.9,\n",
    ")\n"
   ]
  },
  {
   "cell_type": "code",
   "execution_count": 4,
   "metadata": {},
   "outputs": [
    {
     "data": {
      "text/plain": [
       "[{'model': 'sonar',\n",
       "  'whitelist': ['aan.com', 'fda.gov'],\n",
       "  'answer': 'For adults, the recommended dosage of acetaminophen (injection) is as follows:\\n\\n- **Weight ≥ 50 kg**: \\n  - **Dose**: 1,000 mg every 6 hours or 650 mg every 4 hours\\n  - **Maximum single dose**: 1,000 mg\\n  - **Minimum dosing interval**: 4 hours\\n  - **Maximum daily dose**: 4,000 mg per day, inclusive of all acetaminophen routes and products [1][3][4].\\n\\nThis guideline does not reference specific recommendations from the American Academy of Neurology (AAN) since AAN guidelines primarily focus on neurological conditions rather than pain management medications like acetaminophen. Instead, the information is based on FDA-approved labeling for acetaminophen products.',\n",
       "  'sources': ['https://www.accessdata.fda.gov/drugsatfda_docs/label/2021/204767s007lbl.pdf',\n",
       "   'https://www.fda.gov/media/78815/download',\n",
       "   'https://www.accessdata.fda.gov/drugsatfda_docs/label/2015/204767s000lbl.pdf',\n",
       "   'https://www.accessdata.fda.gov/drugsatfda_docs/label/2021/204957s000lbl.pdf',\n",
       "   'https://www.accessdata.fda.gov/drugsatfda_docs/label/2022/206968s000lbl.pdf'],\n",
       "  'batch': 0},\n",
       " {'model': 'sonar',\n",
       "  'whitelist': ['aan.com', 'fda.gov'],\n",
       "  'answer': 'The recommended dosage of acetaminophen for adults is outlined as follows:\\n\\n- **Adults and Adolescents Weighing 50 kg and Over:**\\n  - Dosage is 1,000 mg every 6 hours or 650 mg every 4 hours.\\n  - Maximum single dose is 1,000 mg.\\n  - Minimum dosing interval is 4 hours.\\n  - Maximum daily dose is 4,000 mg per day, inclusive of all routes of administration and acetaminophen-containing products[1][2][3].\\n\\n- **Adults Weighing Less Than 50 kg:**\\n  - Dosage is 15 mg/kg every 6 hours or 12.5 mg/kg every 4 hours.\\n  - Maximum single dose is 15 mg/kg (up to 750 mg).\\n  - Minimum dosing interval is 4 hours.\\n  - Maximum daily dose is 75 mg/kg per day, inclusive of all routes and products[1][2][3].\\n\\nThis information is consistent with the FDA guidelines available in the drug labels, but note that the AAN (American Academy of Neurology) guidelines do not specifically address acetaminophen dosing.',\n",
       "  'sources': ['https://www.accessdata.fda.gov/drugsatfda_docs/label/2015/204767s000lbl.pdf',\n",
       "   'https://www.accessdata.fda.gov/drugsatfda_docs/label/2021/204767s007lbl.pdf',\n",
       "   'https://www.accessdata.fda.gov/drugsatfda_docs/label/2022/206968s000lbl.pdf',\n",
       "   'https://www.accessdata.fda.gov/drugsatfda_docs/label/2024/209471s001lbl.pdf',\n",
       "   'https://www.accessdata.fda.gov/drugsatfda_docs/label/2018/022450s011lbl.pdf'],\n",
       "  'batch': 1},\n",
       " {'model': 'sonar',\n",
       "  'whitelist': ['aan.com', 'fda.gov'],\n",
       "  'answer': 'The recommended dosage for acetaminophen in adults is primarily based on guidelines from the FDA rather than specific neurology guidelines like those from the American Academy of Neurology (AAN). Here are the recommended dosages for adults:\\n\\n- **Adults and Adolescents Weighing 50 kg and Over:**\\n  - 1,000 mg every 6 hours or 650 mg every 4 hours.\\n  - Maximum single dose: 1,000 mg.\\n  - Minimum dosing interval: 4 hours.\\n  - Maximum daily dose: 4,000 mg per day, including all routes of administration[1][3][4].\\n\\n- **Adults and Adolescents Weighing Under 50 kg:**\\n  - 15 mg/kg every 6 hours or 12.5 mg/kg every 4 hours.\\n  - Maximum single dose: 15 mg/kg.\\n  - Minimum dosing interval: 4 hours.\\n  - Maximum daily dose: 75 mg/kg per day[1][3][4]. \\n\\nThere are no specific dosing recommendations from the AAN for acetaminophen as AAN primarily focuses on neurological conditions rather than general analgesia guidance.',\n",
       "  'sources': ['https://www.accessdata.fda.gov/drugsatfda_docs/label/2021/204767s007lbl.pdf',\n",
       "   'https://www.fda.gov/media/78815/download',\n",
       "   'https://www.accessdata.fda.gov/drugsatfda_docs/label/2015/204767s000lbl.pdf',\n",
       "   'https://www.accessdata.fda.gov/drugsatfda_docs/label/2021/204957s000lbl.pdf',\n",
       "   'https://www.accessdata.fda.gov/drugsatfda_docs/label/2022/206968s000lbl.pdf'],\n",
       "  'batch': 2},\n",
       " {'model': 'sonar',\n",
       "  'whitelist': ['aan.com', 'fda.gov'],\n",
       "  'answer': 'For adults, the recommended dosage of acetaminophen is outlined in FDA guidelines as follows:\\n\\n- **Adults and adolescents weighing 50 kg and over**: The recommended dosage for acetaminophen injection is **1,000 mg every 6 hours** or **650 mg every 4 hours**. The maximum single dose is **1,000 mg**, with a minimum dosing interval of **4 hours** and a maximum daily dose of **4,000 mg** per day. This includes all routes of administration and all acetaminophen-containing products[1][3][5].\\n\\n- **Adults and adolescents weighing under 50 kg**: The recommended dosage is **15 mg/kg every 6 hours** or **12.5 mg/kg every 4 hours**, with a maximum single dose of **15 mg/kg** and a maximum daily dose of **75 mg/kg** per day[1][3][5].\\n\\nThese dosages are based on FDA recommendations rather than AAN guidelines, as the AAN (American Academy of Neurology) does not provide specific acetaminophen dosage guidelines.',\n",
       "  'sources': ['https://www.accessdata.fda.gov/drugsatfda_docs/label/2021/204767s007lbl.pdf',\n",
       "   'https://www.fda.gov/media/78815/download',\n",
       "   'https://www.accessdata.fda.gov/drugsatfda_docs/label/2015/204767s000lbl.pdf',\n",
       "   'https://www.accessdata.fda.gov/drugsatfda_docs/label/2024/209471s001lbl.pdf',\n",
       "   'https://www.accessdata.fda.gov/drugsatfda_docs/label/2021/204957s000lbl.pdf'],\n",
       "  'batch': 3}]"
      ]
     },
     "execution_count": 4,
     "metadata": {},
     "output_type": "execute_result"
    }
   ],
   "source": [
    "results\n"
   ]
  },
  {
   "cell_type": "markdown",
   "metadata": {},
   "source": [
    "### Excel aggregation function\n"
   ]
  },
  {
   "cell_type": "code",
   "execution_count": 2,
   "metadata": {},
   "outputs": [
    {
     "name": "stdout",
     "output_type": "stream",
     "text": [
      "Running experiment...\n",
      "Input file: test_excel.xlsx\n",
      "Output file: results/test_results/test_results.xlsx\n",
      "Iterations: 4\n",
      "Model: sonar\n",
      "Whitelist: ['aan.com', 'fda.gov']\n",
      "Temperature: 0.9\n",
      "Max tokens: 3000\n",
      "--------------------------------\n",
      "Total questions to process: 2\n",
      "Total API calls to make: 8\n",
      "--------------------------------\n"
     ]
    },
    {
     "name": "stderr",
     "output_type": "stream",
     "text": [
      "Processing: According to current guideline...: 100%|██████████| 2/2 [01:39<00:00, 49.81s/question]"
     ]
    },
    {
     "name": "stdout",
     "output_type": "stream",
     "text": [
      "Experiment completed. Results saved to results/test_results/test_results.xlsx\n"
     ]
    },
    {
     "name": "stderr",
     "output_type": "stream",
     "text": [
      "\n"
     ]
    }
   ],
   "source": [
    "results = run_experiment_on_excel(\n",
    "    input_file=\"test_excel.xlsx\",\n",
    "    output_file=\"results/test_results/test_results.xlsx\",\n",
    "    iterations=4,\n",
    "    model=\"sonar\",\n",
    "    whitelist=[\"aan.com\", \"fda.gov\"],\n",
    ")\n"
   ]
  },
  {
   "cell_type": "code",
   "execution_count": 3,
   "metadata": {},
   "outputs": [
    {
     "data": {
      "text/html": [
       "<div>\n",
       "<style scoped>\n",
       "    .dataframe tbody tr th:only-of-type {\n",
       "        vertical-align: middle;\n",
       "    }\n",
       "\n",
       "    .dataframe tbody tr th {\n",
       "        vertical-align: top;\n",
       "    }\n",
       "\n",
       "    .dataframe thead th {\n",
       "        text-align: right;\n",
       "    }\n",
       "</style>\n",
       "<table border=\"1\" class=\"dataframe\">\n",
       "  <thead>\n",
       "    <tr style=\"text-align: right;\">\n",
       "      <th></th>\n",
       "      <th>Question Number</th>\n",
       "      <th>Type</th>\n",
       "      <th>Question</th>\n",
       "      <th>Sample Answer According to Guideline</th>\n",
       "      <th>Guideline</th>\n",
       "      <th>model</th>\n",
       "      <th>whitelist</th>\n",
       "      <th>complete_answer</th>\n",
       "      <th>batch</th>\n",
       "    </tr>\n",
       "  </thead>\n",
       "  <tbody>\n",
       "    <tr>\n",
       "      <th>0</th>\n",
       "      <td>1</td>\n",
       "      <td>Knowledge</td>\n",
       "      <td>According to current guidelines, is there stat...</td>\n",
       "      <td>While there is a possibly higher seizure recur...</td>\n",
       "      <td>Practice advisory update: Antiseizure medicati...</td>\n",
       "      <td>sonar</td>\n",
       "      <td>['aan.com', 'fda.gov']</td>\n",
       "      <td>Based on the current guidelines from the Ameri...</td>\n",
       "      <td>0</td>\n",
       "    </tr>\n",
       "    <tr>\n",
       "      <th>1</th>\n",
       "      <td>1</td>\n",
       "      <td>Knowledge</td>\n",
       "      <td>According to current guidelines, is there stat...</td>\n",
       "      <td>While there is a possibly higher seizure recur...</td>\n",
       "      <td>Practice advisory update: Antiseizure medicati...</td>\n",
       "      <td>sonar</td>\n",
       "      <td>['aan.com', 'fda.gov']</td>\n",
       "      <td>According to current guidelines, particularly ...</td>\n",
       "      <td>1</td>\n",
       "    </tr>\n",
       "    <tr>\n",
       "      <th>2</th>\n",
       "      <td>1</td>\n",
       "      <td>Knowledge</td>\n",
       "      <td>According to current guidelines, is there stat...</td>\n",
       "      <td>While there is a possibly higher seizure recur...</td>\n",
       "      <td>Practice advisory update: Antiseizure medicati...</td>\n",
       "      <td>sonar</td>\n",
       "      <td>['aan.com', 'fda.gov']</td>\n",
       "      <td>According to the American Academy of Neurology...</td>\n",
       "      <td>2</td>\n",
       "    </tr>\n",
       "    <tr>\n",
       "      <th>3</th>\n",
       "      <td>1</td>\n",
       "      <td>Knowledge</td>\n",
       "      <td>According to current guidelines, is there stat...</td>\n",
       "      <td>While there is a possibly higher seizure recur...</td>\n",
       "      <td>Practice advisory update: Antiseizure medicati...</td>\n",
       "      <td>sonar</td>\n",
       "      <td>['aan.com', 'fda.gov']</td>\n",
       "      <td>According to current guidelines, the discontin...</td>\n",
       "      <td>3</td>\n",
       "    </tr>\n",
       "    <tr>\n",
       "      <th>4</th>\n",
       "      <td>2</td>\n",
       "      <td>Knowledge</td>\n",
       "      <td>According to current guidelines, is there evid...</td>\n",
       "      <td>There is no evidence for either - currently th...</td>\n",
       "      <td>Practice advisory update: Antiseizure medicati...</td>\n",
       "      <td>sonar</td>\n",
       "      <td>['aan.com', 'fda.gov']</td>\n",
       "      <td>According to the most recent American Academy ...</td>\n",
       "      <td>0</td>\n",
       "    </tr>\n",
       "  </tbody>\n",
       "</table>\n",
       "</div>"
      ],
      "text/plain": [
       "   Question Number       Type  \\\n",
       "0                1  Knowledge   \n",
       "1                1  Knowledge   \n",
       "2                1  Knowledge   \n",
       "3                1  Knowledge   \n",
       "4                2  Knowledge   \n",
       "\n",
       "                                            Question  \\\n",
       "0  According to current guidelines, is there stat...   \n",
       "1  According to current guidelines, is there stat...   \n",
       "2  According to current guidelines, is there stat...   \n",
       "3  According to current guidelines, is there stat...   \n",
       "4  According to current guidelines, is there evid...   \n",
       "\n",
       "                Sample Answer According to Guideline  \\\n",
       "0  While there is a possibly higher seizure recur...   \n",
       "1  While there is a possibly higher seizure recur...   \n",
       "2  While there is a possibly higher seizure recur...   \n",
       "3  While there is a possibly higher seizure recur...   \n",
       "4  There is no evidence for either - currently th...   \n",
       "\n",
       "                                           Guideline  model  \\\n",
       "0  Practice advisory update: Antiseizure medicati...  sonar   \n",
       "1  Practice advisory update: Antiseizure medicati...  sonar   \n",
       "2  Practice advisory update: Antiseizure medicati...  sonar   \n",
       "3  Practice advisory update: Antiseizure medicati...  sonar   \n",
       "4  Practice advisory update: Antiseizure medicati...  sonar   \n",
       "\n",
       "                whitelist                                    complete_answer  \\\n",
       "0  ['aan.com', 'fda.gov']  Based on the current guidelines from the Ameri...   \n",
       "1  ['aan.com', 'fda.gov']  According to current guidelines, particularly ...   \n",
       "2  ['aan.com', 'fda.gov']  According to the American Academy of Neurology...   \n",
       "3  ['aan.com', 'fda.gov']  According to current guidelines, the discontin...   \n",
       "4  ['aan.com', 'fda.gov']  According to the most recent American Academy ...   \n",
       "\n",
       "   batch  \n",
       "0      0  \n",
       "1      1  \n",
       "2      2  \n",
       "3      3  \n",
       "4      0  "
      ]
     },
     "execution_count": 3,
     "metadata": {},
     "output_type": "execute_result"
    }
   ],
   "source": [
    "import pandas as pd\n",
    "\n",
    "df = pd.read_excel(\"results/test_results/test_results.xlsx\")\n",
    "df.head()\n",
    "\n"
   ]
  },
  {
   "cell_type": "code",
   "execution_count": 4,
   "metadata": {},
   "outputs": [
    {
     "data": {
      "text/plain": [
       "'Based on the current guidelines from the American Academy of Neurology (AAN), here are the key points regarding the discontinuation of antiseizure medications (ASMs) in adult epilepsy patients who have been seizure-free for more than two years:\\n\\n- **Risk of Seizure Recurrence**: There is possibly higher seizure recurrence in patients who undergo ASM withdrawal. However, one Class I study found that the risk of recurrence during the 12 months of the study was not significantly different between groups undergoing withdrawal and those continuing medication[3][5].\\n- **Risk Factors**: Individual patient characteristics and clinical judgment are crucial in deciding whether to withdraw ASMs, as there is no strong evidence to support one option over the other. Risk factors for seizure recurrence include the type of seizures and EEG abnormalities[1][3].\\n- **Quality of Life and Safety**: There is no strong evidence that ASM withdrawal significantly changes the quality of life in seizure-free adults. Additionally, there is limited evidence suggesting an increased risk of status epilepticus or mortality following ASM withdrawal[3][5].\\n- **Guideline Recommendations**: Clinicians should discuss the risks and benefits of ASM withdrawal with patients who have been seizure-free for at least two years. The decision should be based on individual patient characteristics and preferences, as there is no statistically significant evidence to definitively support either option[3][5].\\n\\nThese guidelines are based on the AAN practice advisory, which updates earlier parameters to provide current guidance for managing ASM withdrawal in seizure-free patients[3][5].\\n\\nSources:\\nhttps://www.aan.com/siteassets/home-page/policy-and-guidelines/guidelines/guidelines-and-measures-open-for-public-comment/18guidelineaedwithdrawalfull_pg.pdf\\nhttps://www.fda.gov/media/158280/download\\nhttps://www.aan.com/Guidelines/home/GetGuidelineContent/995\\nhttps://www.aan.com/Guidelines/Home/GetGuidelineContent/1103\\nhttps://www.aan.com/Guidelines/home/GetGuidelineContent/996'"
      ]
     },
     "execution_count": 4,
     "metadata": {},
     "output_type": "execute_result"
    }
   ],
   "source": [
    "# format in markdown\n",
    "df.complete_answer[0]"
   ]
  }
 ],
 "metadata": {
  "kernelspec": {
   "display_name": "venv",
   "language": "python",
   "name": "python3"
  },
  "language_info": {
   "codemirror_mode": {
    "name": "ipython",
    "version": 3
   },
   "file_extension": ".py",
   "mimetype": "text/x-python",
   "name": "python",
   "nbconvert_exporter": "python",
   "pygments_lexer": "ipython3",
   "version": "3.9.6"
  }
 },
 "nbformat": 4,
 "nbformat_minor": 2
}
