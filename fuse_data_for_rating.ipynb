{
 "cells": [
  {
   "cell_type": "code",
   "execution_count": 1,
   "metadata": {},
   "outputs": [],
   "source": [
    "import pandas as pd"
   ]
  },
  {
   "cell_type": "code",
   "execution_count": 2,
   "metadata": {},
   "outputs": [],
   "source": [
    "open_evidence_dataset = pd.read_excel(\"results/OpenEvidence_with_answers.xlsx\")"
   ]
  },
  {
   "cell_type": "code",
   "execution_count": 3,
   "metadata": {},
   "outputs": [],
   "source": [
    "results_file_paths = [\n",
    "    \"results/no_reasoning_no_whitelisting.xlsx\",\n",
    "    \"results/no_reasoning_yes_whitelisting.xlsx\",\n",
    "    \"results/no_reasoning_no_whitelisting_sonarpro.xlsx\",\n",
    "    \"results/no_reasoning_yes_whitelisting_sonarpro.xlsx\",\n",
    "    \"results/yes_reasoning_no_whitelisting.xlsx\",\n",
    "    \"results/yes_reasoning_yes_whitelisting.xlsx\"\n",
    "]"
   ]
  },
  {
   "cell_type": "code",
   "execution_count": 4,
   "metadata": {},
   "outputs": [],
   "source": [
    "for file_path in results_file_paths:\n",
    "    df = pd.read_excel(file_path)\n",
    "    open_evidence_dataset = pd.concat([open_evidence_dataset, df])\n",
    "\n"
   ]
  },
  {
   "cell_type": "markdown",
   "metadata": {},
   "source": [
    "Put Thinking process in different column for better rating"
   ]
  },
  {
   "cell_type": "code",
   "execution_count": 5,
   "metadata": {},
   "outputs": [],
   "source": [
    "import re\n",
    "\n",
    "def extract_thinking(text):\n",
    "    match = re.search(r\"<think>(.*?)</think>\", str(text), re.DOTALL)\n",
    "    return match.group(1).strip() if match else None\n",
    "\n",
    "open_evidence_dataset[\"Thinking\"] = open_evidence_dataset[\"complete_answer\"].apply(extract_thinking)\n",
    "\n",
    "open_evidence_dataset[\"Answer\"] = open_evidence_dataset[\"complete_answer\"].apply(lambda x: re.sub(r\"<think>.*?</think>\", \"\", str(x), flags=re.DOTALL).strip())\n",
    "open_evidence_dataset.drop(columns=[\"complete_answer\"], inplace=True)\n",
    "\n",
    "\n"
   ]
  },
  {
   "cell_type": "code",
   "execution_count": 6,
   "metadata": {},
   "outputs": [],
   "source": [
    "open_evidence_dataset.to_excel(\"results/All_Results_to_annotate.xlsx\", index=False)\n",
    "\n",
    "#formatting to be done in excel\n"
   ]
  }
 ],
 "metadata": {
  "kernelspec": {
   "display_name": "venv",
   "language": "python",
   "name": "python3"
  },
  "language_info": {
   "codemirror_mode": {
    "name": "ipython",
    "version": 3
   },
   "file_extension": ".py",
   "mimetype": "text/x-python",
   "name": "python",
   "nbconvert_exporter": "python",
   "pygments_lexer": "ipython3",
   "version": "3.9.6"
  }
 },
 "nbformat": 4,
 "nbformat_minor": 2
}
